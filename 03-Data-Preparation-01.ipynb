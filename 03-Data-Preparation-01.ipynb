{
 "cells": [
  {
   "cell_type": "markdown",
   "metadata": {},
   "source": [
    "# 03 Data Preparation\n",
    "\n",
    "The next part should show whether NamSor performs equally well in all groups. For that we need to create two different data sets out of the data set we already have: One for each API endpoint. Then in each set we set the score column to NamSor's prediction probability and the label_value to whether NamSor's prediction was correct or not."
   ]
  },
  {
   "cell_type": "code",
   "execution_count": null,
   "metadata": {},
   "outputs": [],
   "source": [
    "# >>> Import Libraries\n",
    "\n",
    "print(\"Importing necessary libraries... \")\n",
    "\n",
    "import pandas as pd\n",
    "\n",
    "print(\"Libraries imported.\")"
   ]
  },
  {
   "cell_type": "code",
   "execution_count": null,
   "metadata": {},
   "outputs": [],
   "source": [
    "# >>> Import COMPAS data set\n",
    "\n",
    "print(\"Importing COMPAS data set... \")\n",
    "\n",
    "df = pd.read_csv(\"data/compas_with_predictions_cleaned.csv\")\n",
    "\n",
    "print(\"Data set imported. It is has {} entries and looks like this:\".format(df.shape[0]))\n",
    "df.head()"
   ]
  },
  {
   "cell_type": "code",
   "execution_count": null,
   "metadata": {},
   "outputs": [],
   "source": [
    "def mapToNumber(b):\n",
    "    if(b):\n",
    "        return 1.0\n",
    "    else:\n",
    "        return 0.0"
   ]
  },
  {
   "cell_type": "code",
   "execution_count": null,
   "metadata": {},
   "outputs": [],
   "source": [
    "# >>> create a data set for gender\n",
    "df_gender = df[['entity_id', 'first', 'last', 'sex', 'sex_pred', 'race']];\n",
    "df_gender['score'] = df['sex_pred_prob']\n",
    "df_gender['label_value'] = (df['sex'] == df['sex_pred'])\n",
    "\n",
    "df_gender['label_value'] = df_gender['label_value'].apply(lambda x: mapToNumber(x)) \n",
    "\n",
    "df_gender"
   ]
  },
  {
   "cell_type": "code",
   "execution_count": null,
   "metadata": {},
   "outputs": [],
   "source": [
    "# >>> create a data set for ethnicity\n",
    "df_ethnicity = df[['entity_id', 'first', 'last', 'race', 'race_pred', 'sex']];\n",
    "df_ethnicity['score'] = df['race_pred_prob']\n",
    "df_ethnicity['label_value'] = (df['race'] == df['race_pred'])\n",
    "\n",
    "df_ethnicity['label_value'] = df_ethnicity['label_value'].apply(lambda x: mapToNumber(x)) \n",
    "\n",
    "df_ethnicity"
   ]
  },
  {
   "cell_type": "code",
   "execution_count": null,
   "metadata": {},
   "outputs": [],
   "source": [
    "# Saving results \n",
    "print(\"Saving compas dataframe with predictions for gender to CSV... \")\n",
    "df_gender.to_csv(\"data/compas_gender_predictions.csv\")\n",
    "print(\"CSV saved!\")"
   ]
  },
  {
   "cell_type": "code",
   "execution_count": null,
   "metadata": {},
   "outputs": [],
   "source": [
    "print(\"Saving compas dataframe with predictions for ethnicity to CSV... \")\n",
    "df_ethnicity.to_csv(\"data/compas_ethnicity_predictions.csv\")\n",
    "print(\"CSV saved!\")"
   ]
  },
  {
   "cell_type": "code",
   "execution_count": null,
   "metadata": {},
   "outputs": [],
   "source": []
  }
 ],
 "metadata": {
  "kernelspec": {
   "display_name": "Python 3",
   "language": "python",
   "name": "python3"
  },
  "language_info": {
   "codemirror_mode": {
    "name": "ipython",
    "version": 3
   },
   "file_extension": ".py",
   "mimetype": "text/x-python",
   "name": "python",
   "nbconvert_exporter": "python",
   "pygments_lexer": "ipython3",
   "version": "3.7.3"
  }
 },
 "nbformat": 4,
 "nbformat_minor": 2
}
