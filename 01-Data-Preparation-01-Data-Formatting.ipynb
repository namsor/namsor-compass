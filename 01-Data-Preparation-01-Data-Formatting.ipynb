{
 "cells": [
  {
   "cell_type": "markdown",
   "metadata": {},
   "source": [
    "# 01 Data Preparation\n",
    "\n",
    "Pre-preparing [ProPublica's COMPAS data](https://raw.githubusercontent.com/propublica/compas-analysis/master/compas-scores-two-years.csv) so it is compatible with Aequitas."
   ]
  },
  {
   "cell_type": "code",
   "execution_count": null,
   "metadata": {},
   "outputs": [],
   "source": [
    "# >>> Import Libraries\n",
    "\n",
    "print(\"Importing necessary libraries... \")\n",
    "\n",
    "import pandas as pd\n",
    "\n",
    "print(\"Libraries imported.\")"
   ]
  },
  {
   "cell_type": "code",
   "execution_count": null,
   "metadata": {},
   "outputs": [],
   "source": [
    "# >>> Import raw COMPAS data set\n",
    "# Source of script: https://github.com/dssg/aequitas/blob/master/examples/compas_data_for_aequitas.py\n",
    "# I adapted it to keep first and last name\n",
    "df = pd.read_csv('data/compas-scores-two-years.csv')\n",
    "\n",
    "df = df.rename(columns={'id':'entity_id', \n",
    "                        'two_year_recid':'label_value'}) # label_value means: Did the person recidivate?\n",
    "\n",
    "# score means: 'High', 'Medium' or 'Low' and reflects level of assessed risk of recidivism\n",
    "# \"High\" and \"Medium\" are considered prediction that the defendant is charged with a felony \n",
    "# or misdemenor in the two years after administation of COMPAS assessment. \"Low\" is considered \n",
    "# a prediction of non-recidivism. This is based on ProPublica's interpretation of Northpointe's\n",
    "# practioner guide. (Source: https://github.com/dssg/aequitas/blob/master/examples/compas_data_for_aequitas.py#L14)\n",
    "\n",
    "df.loc[df['score_text'] == 'Low', 'score'] = str(0.0)\n",
    "df.loc[df['score_text'] != 'Low', 'score'] = str(1.0)\n",
    "\n",
    "df = df[['entity_id', 'first', 'last', 'score', 'label_value', 'race', 'sex', 'age_cat']]\n",
    "\n",
    "df.to_csv('data/compas_for_namsor.csv', index=False)"
   ]
  },
  {
   "cell_type": "code",
   "execution_count": null,
   "metadata": {},
   "outputs": [],
   "source": []
  }
 ],
 "metadata": {
  "kernelspec": {
   "display_name": "Python 3",
   "language": "python",
   "name": "python3"
  },
  "language_info": {
   "codemirror_mode": {
    "name": "ipython",
    "version": 3
   },
   "file_extension": ".py",
   "mimetype": "text/x-python",
   "name": "python",
   "nbconvert_exporter": "python",
   "pygments_lexer": "ipython3",
   "version": "3.7.3"
  }
 },
 "nbformat": 4,
 "nbformat_minor": 2
}
